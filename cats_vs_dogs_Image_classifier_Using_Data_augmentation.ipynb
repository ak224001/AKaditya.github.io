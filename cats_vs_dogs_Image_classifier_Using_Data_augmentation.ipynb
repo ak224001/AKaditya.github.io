{
  "nbformat": 4,
  "nbformat_minor": 0,
  "metadata": {
    "colab": {
      "name": "cats_vs_dogs_Image_classifier.ipynb",
      "provenance": [],
      "collapsed_sections": [],
      "authorship_tag": "ABX9TyOv9sUvtbCOmqeYoMWSoSv/",
      "include_colab_link": true
    },
    "kernelspec": {
      "name": "python3",
      "display_name": "Python 3"
    },
    "accelerator": "GPU"
  },
  "cells": [
    {
      "cell_type": "markdown",
      "metadata": {
        "id": "view-in-github",
        "colab_type": "text"
      },
      "source": [
        "<a href=\"https://colab.research.google.com/github/ak224001/Deep-Learning/blob/master/cats_vs_dogs_Image_classifier_Using_Data_augmentation.ipynb\" target=\"_parent\"><img src=\"https://colab.research.google.com/assets/colab-badge.svg\" alt=\"Open In Colab\"/></a>"
      ]
    },
    {
      "cell_type": "code",
      "metadata": {
        "id": "FWPiTEadJPXt",
        "colab_type": "code",
        "colab": {}
      },
      "source": [
        "# Colab library to upload files to notebook\n",
        "from google.colab import files\n",
        "\n",
        "# Install Kaggle library\n",
        "!pip install -q kaggle"
      ],
      "execution_count": 0,
      "outputs": []
    },
    {
      "cell_type": "code",
      "metadata": {
        "id": "S6Ockk48JiMV",
        "colab_type": "code",
        "outputId": "2c59b739-dfde-4d2d-d64a-5d3146fc6d1f",
        "colab": {
          "resources": {
            "http://localhost:8080/nbextensions/google.colab/files.js": {
              "data": "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",
              "ok": true,
              "headers": [
                [
                  "content-type",
                  "application/javascript"
                ]
              ],
              "status": 200,
              "status_text": ""
            }
          },
          "base_uri": "https://localhost:8080/",
          "height": 74
        }
      },
      "source": [
        "# Upload kaggle API key file\n",
        "uploaded = files.upload()"
      ],
      "execution_count": 5,
      "outputs": [
        {
          "output_type": "display_data",
          "data": {
            "text/html": [
              "\n",
              "     <input type=\"file\" id=\"files-8ae8193c-6b64-4cbc-923a-d9c5fb284d60\" name=\"files[]\" multiple disabled />\n",
              "     <output id=\"result-8ae8193c-6b64-4cbc-923a-d9c5fb284d60\">\n",
              "      Upload widget is only available when the cell has been executed in the\n",
              "      current browser session. Please rerun this cell to enable.\n",
              "      </output>\n",
              "      <script src=\"/nbextensions/google.colab/files.js\"></script> "
            ],
            "text/plain": [
              "<IPython.core.display.HTML object>"
            ]
          },
          "metadata": {
            "tags": []
          }
        },
        {
          "output_type": "stream",
          "text": [
            "Saving kaggle.json to kaggle.json\n"
          ],
          "name": "stdout"
        }
      ]
    },
    {
      "cell_type": "code",
      "metadata": {
        "id": "sfMIhiAcJkWB",
        "colab_type": "code",
        "colab": {}
      },
      "source": [
        "! mkdir ~/.kaggle"
      ],
      "execution_count": 0,
      "outputs": []
    },
    {
      "cell_type": "code",
      "metadata": {
        "id": "vv65lP1wf_ha",
        "colab_type": "code",
        "colab": {}
      },
      "source": [
        "! cp kaggle.json ~/.kaggle/"
      ],
      "execution_count": 0,
      "outputs": []
    },
    {
      "cell_type": "code",
      "metadata": {
        "id": "M8i0Vj2KgABK",
        "colab_type": "code",
        "colab": {}
      },
      "source": [
        "! chmod 600 ~/.kaggle/kaggle.json"
      ],
      "execution_count": 0,
      "outputs": []
    },
    {
      "cell_type": "code",
      "metadata": {
        "id": "sLSMGW4hgCu3",
        "colab_type": "code",
        "outputId": "80b07ced-fca9-4fff-8781-0c5e2fb2d5bd",
        "colab": {
          "base_uri": "https://localhost:8080/",
          "height": 185
        }
      },
      "source": [
        "!kaggle competitions download -c dogs-vs-cats"
      ],
      "execution_count": 9,
      "outputs": [
        {
          "output_type": "stream",
          "text": [
            "Warning: Looks like you're using an outdated API Version, please consider updating (server 1.5.6 / client 1.5.4)\n",
            "Downloading test1.zip to /content\n",
            " 98% 266M/271M [00:03<00:00, 96.3MB/s]\n",
            "100% 271M/271M [00:03<00:00, 91.1MB/s]\n",
            "Downloading train.zip to /content\n",
            " 99% 540M/543M [00:06<00:00, 93.4MB/s]\n",
            "100% 543M/543M [00:06<00:00, 88.5MB/s]\n",
            "Downloading sampleSubmission.csv to /content\n",
            "  0% 0.00/86.8k [00:00<?, ?B/s]\n",
            "100% 86.8k/86.8k [00:00<00:00, 95.4MB/s]\n"
          ],
          "name": "stdout"
        }
      ]
    },
    {
      "cell_type": "code",
      "metadata": {
        "id": "T2xjl63xgFwd",
        "colab_type": "code",
        "colab": {}
      },
      "source": [
        "!unzip train.zip\n"
      ],
      "execution_count": 0,
      "outputs": []
    },
    {
      "cell_type": "code",
      "metadata": {
        "id": "ELKtldsYgyaf",
        "colab_type": "code",
        "colab": {}
      },
      "source": [
        "!unzip test1.zip"
      ],
      "execution_count": 0,
      "outputs": []
    },
    {
      "cell_type": "code",
      "metadata": {
        "id": "alWUzq-LgLSA",
        "colab_type": "code",
        "colab": {}
      },
      "source": [
        "import os\n",
        "TRAIN_DIR = \"/content/train/\"\n",
        "train_images = [TRAIN_DIR+i for i in os.listdir(TRAIN_DIR)]"
      ],
      "execution_count": 0,
      "outputs": []
    },
    {
      "cell_type": "code",
      "metadata": {
        "id": "3R2OPyWBgQ4t",
        "colab_type": "code",
        "outputId": "5a72a736-fa4b-4b08-ec50-ef26818dfbe7",
        "colab": {
          "base_uri": "https://localhost:8080/",
          "height": 34
        }
      },
      "source": [
        "cat_files = [fn for fn in train_images if 'cat' in fn]\n",
        "dog_files = [fn for fn in train_images if 'dog' in fn]\n",
        "len(cat_files), len(dog_files)"
      ],
      "execution_count": 13,
      "outputs": [
        {
          "output_type": "execute_result",
          "data": {
            "text/plain": [
              "(12500, 12500)"
            ]
          },
          "metadata": {
            "tags": []
          },
          "execution_count": 13
        }
      ]
    },
    {
      "cell_type": "code",
      "metadata": {
        "id": "7HWkAHY8gTvU",
        "colab_type": "code",
        "colab": {}
      },
      "source": [
        "import numpy as np\n",
        "#validation set with 3000 images\n",
        "cat_validate = np.random.choice(cat_files, size = 2500 ,replace = False )\n",
        "dog_validate = np.random.choice(dog_files, size = 2500 ,replace = False )"
      ],
      "execution_count": 0,
      "outputs": []
    },
    {
      "cell_type": "code",
      "metadata": {
        "colab_type": "code",
        "id": "c-SVzWjqgruk",
        "colab": {}
      },
      "source": [
        "#train set\n",
        "cat_train = list(set(cat_files) - set(cat_validate))\n",
        "dog_train = list(set(dog_files) - set(dog_validate))"
      ],
      "execution_count": 0,
      "outputs": []
    },
    {
      "cell_type": "code",
      "metadata": {
        "colab_type": "code",
        "id": "keQ6XW1HgrEJ",
        "outputId": "a33de728-f705-4819-af91-e618bf5eafe6",
        "colab": {
          "base_uri": "https://localhost:8080/",
          "height": 50
        }
      },
      "source": [
        "print('Cat datasets:', len(cat_train), len(cat_validate))\n",
        "print('Dog datasets:', len(dog_train), len(dog_validate))"
      ],
      "execution_count": 16,
      "outputs": [
        {
          "output_type": "stream",
          "text": [
            "Cat datasets: 10000 2500\n",
            "Dog datasets: 10000 2500\n"
          ],
          "name": "stdout"
        }
      ]
    },
    {
      "cell_type": "code",
      "metadata": {
        "id": "9awauADZg67Z",
        "colab_type": "code",
        "colab": {}
      },
      "source": [
        "#make files\n",
        "train_dir = \"training_data\"\n",
        "os.mkdir(train_dir) if not os.path.isdir(train_dir) else None"
      ],
      "execution_count": 0,
      "outputs": []
    },
    {
      "cell_type": "code",
      "metadata": {
        "id": "rqYxeTB0h-Cj",
        "colab_type": "code",
        "outputId": "2d3b0f53-32ff-4731-e53c-c0d0039246e1",
        "colab": {
          "base_uri": "https://localhost:8080/",
          "height": 50
        }
      },
      "source": [
        "import os\n",
        "dataset_home = '/content/training_data/'\n",
        "subdirs = ['dogs/', 'cats/']\n",
        "for subdir in subdirs:\n",
        "  newdir = dataset_home+subdir\n",
        "  print(newdir)\n",
        "  os.mkdir(newdir) if not os.path.isdir(newdir) else None"
      ],
      "execution_count": 18,
      "outputs": [
        {
          "output_type": "stream",
          "text": [
            "/content/training_data/dogs/\n",
            "/content/training_data/cats/\n"
          ],
          "name": "stdout"
        }
      ]
    },
    {
      "cell_type": "code",
      "metadata": {
        "id": "TmPo9IrgjzXe",
        "colab_type": "code",
        "colab": {}
      },
      "source": [
        "import shutil\n",
        "for fn in cat_train:\n",
        "    shutil.copy(fn, \"/content/training_data/cats\")\n",
        "for fn in dog_train:\n",
        "    shutil.copy(fn, \"/content/training_data/dogs\")"
      ],
      "execution_count": 0,
      "outputs": []
    },
    {
      "cell_type": "code",
      "metadata": {
        "id": "h05o2pLwhzot",
        "colab_type": "code",
        "colab": {}
      },
      "source": [
        "#make files\n",
        "validation_dir = \"validation_data\"\n",
        "os.mkdir(validation_dir) if not os.path.isdir(validation_dir) else None"
      ],
      "execution_count": 0,
      "outputs": []
    },
    {
      "cell_type": "code",
      "metadata": {
        "id": "Y9vHlQz9inN5",
        "colab_type": "code",
        "outputId": "af188501-6be2-46e0-8651-eb0e97c83564",
        "colab": {
          "base_uri": "https://localhost:8080/",
          "height": 50
        }
      },
      "source": [
        "import os\n",
        "dataset_home = '/content/validation_data/'\n",
        "subdirs = ['dogs/', 'cats/']\n",
        "for subdir in subdirs:\n",
        "  newdir = dataset_home+subdir\n",
        "  print(newdir)\n",
        "  os.mkdir(newdir) if not os.path.isdir(newdir) else None"
      ],
      "execution_count": 21,
      "outputs": [
        {
          "output_type": "stream",
          "text": [
            "/content/validation_data/dogs/\n",
            "/content/validation_data/cats/\n"
          ],
          "name": "stdout"
        }
      ]
    },
    {
      "cell_type": "code",
      "metadata": {
        "id": "42ODgL9qlL0Q",
        "colab_type": "code",
        "colab": {}
      },
      "source": [
        "#!rm -rf validation_data"
      ],
      "execution_count": 0,
      "outputs": []
    },
    {
      "cell_type": "code",
      "metadata": {
        "id": "Ks0xabhzizlp",
        "colab_type": "code",
        "colab": {}
      },
      "source": [
        "import shutil\n",
        "for fn in cat_validate:\n",
        "    shutil.copy(fn, \"/content/validation_data/cats\")\n",
        "for fn in dog_validate:\n",
        "    shutil.copy(fn, \"/content/validation_data/dogs\")"
      ],
      "execution_count": 0,
      "outputs": []
    },
    {
      "cell_type": "code",
      "metadata": {
        "id": "dUA6aN6fp5SF",
        "colab_type": "code",
        "colab": {}
      },
      "source": [
        "#make files\n",
        "test_dir = \"test_data\"\n",
        "os.mkdir(test_dir) if not os.path.isdir(test_dir) else None"
      ],
      "execution_count": 0,
      "outputs": []
    },
    {
      "cell_type": "code",
      "metadata": {
        "id": "tnyrfrcBqMNp",
        "colab_type": "code",
        "outputId": "525ec4de-9789-45ff-f9d9-00f4957fe40d",
        "colab": {
          "base_uri": "https://localhost:8080/",
          "height": 34
        }
      },
      "source": [
        "import os\n",
        "dataset_home = '/content/test_data/'\n",
        "subdirs = ['dogs_and_cats/']\n",
        "for subdir in subdirs:\n",
        "  newdir = dataset_home+subdir\n",
        "  print(newdir)\n",
        "  os.mkdir(newdir) if not os.path.isdir(newdir) else None"
      ],
      "execution_count": 25,
      "outputs": [
        {
          "output_type": "stream",
          "text": [
            "/content/test_data/dogs_and_cats/\n"
          ],
          "name": "stdout"
        }
      ]
    },
    {
      "cell_type": "code",
      "metadata": {
        "id": "UYMB4yICqYzc",
        "colab_type": "code",
        "colab": {}
      },
      "source": [
        "import os\n",
        "TEST_DIR = \"/content/test1/\"\n",
        "test_images = [TEST_DIR+i for i in os.listdir(TEST_DIR)]\n",
        "import shutil\n",
        "for fn in test_images:\n",
        "    shutil.copy(fn, \"/content/test_data/dogs_and_cats\")"
      ],
      "execution_count": 0,
      "outputs": []
    },
    {
      "cell_type": "code",
      "metadata": {
        "id": "H7CG-SFQlCqu",
        "colab_type": "code",
        "colab": {}
      },
      "source": [
        "from tensorflow.keras.preprocessing.image import ImageDataGenerator\n",
        "import os\n",
        "training_data_gen = ImageDataGenerator(\n",
        "    rescale=1./255,\n",
        "    rotation_range=40,\n",
        "    width_shift_range=0.2,\n",
        "    height_shift_range=0.2,\n",
        "    shear_range=0.1,\n",
        "    zoom_range=0.1,\n",
        "    horizontal_flip=True)\n",
        "validation_data_gen = ImageDataGenerator(rescale=1./255)\n",
        "test_data_gen = ImageDataGenerator(rescale=1./255)"
      ],
      "execution_count": 0,
      "outputs": []
    },
    {
      "cell_type": "code",
      "metadata": {
        "id": "vXQCQLl3lq9J",
        "colab_type": "code",
        "outputId": "88c9c081-5a4c-4222-a342-0351c5e24019",
        "colab": {
          "base_uri": "https://localhost:8080/",
          "height": 67
        }
      },
      "source": [
        "# prepare iterators\n",
        "train_it = training_data_gen.flow_from_directory(\"/content/training_data\",\n",
        "class_mode='binary', batch_size=64, target_size=(200, 200))\n",
        "test_it = test_data_gen.flow_from_directory(\"/content/test_data\",\n",
        "class_mode='binary', batch_size=64, target_size=(200, 200))\n",
        "validate_it = validation_data_gen.flow_from_directory(\"/content/validation_data\",\n",
        "class_mode='binary', batch_size=64, target_size=(200, 200))"
      ],
      "execution_count": 28,
      "outputs": [
        {
          "output_type": "stream",
          "text": [
            "Found 20000 images belonging to 2 classes.\n",
            "Found 12500 images belonging to 1 classes.\n",
            "Found 5000 images belonging to 2 classes.\n"
          ],
          "name": "stdout"
        }
      ]
    },
    {
      "cell_type": "code",
      "metadata": {
        "id": "a2osah3QsThh",
        "colab_type": "code",
        "colab": {}
      },
      "source": [
        "\n",
        "import tensorflow as tf\n",
        "from tensorflow import keras\n",
        "from tensorflow.keras.layers import Conv2D, MaxPooling2D, Flatten, Dense, Dropout\n",
        "from tensorflow.keras.models import Sequential, load_model\n",
        "from tensorflow.keras.optimizers import RMSprop"
      ],
      "execution_count": 0,
      "outputs": []
    },
    {
      "cell_type": "code",
      "metadata": {
        "id": "DU2IqGAvrWPF",
        "colab_type": "code",
        "colab": {}
      },
      "source": [
        "model = Sequential()\n",
        "\n",
        "model.add(Conv2D(32, (3, 3), padding='same', activation='relu',input_shape=(200,200,3)))\n",
        "model.add(Conv2D(32, 3, 3, padding='same', activation='relu'))\n",
        "model.add(MaxPooling2D((2, 2)))\n",
        "\n",
        "model.add(Conv2D(64, (3, 3), padding='same', activation='relu'))\n",
        "model.add(Conv2D(64, (3, 3), padding='same', activation='relu'))\n",
        "model.add(MaxPooling2D((2, 2)))\n",
        "\n",
        "model.add(Conv2D(128, (3, 3), padding='same', activation='relu'))\n",
        "model.add(Conv2D(128, 3, 3, padding='same', activation='relu'))\n",
        "model.add(MaxPooling2D((2, 2)))\n",
        "\n",
        "model.add(Conv2D(256, (3, 3), padding='same', activation='relu'))\n",
        "model.add(Conv2D(256, (3, 3), padding='same', activation='relu'))\n",
        "model.add(MaxPooling2D((2, 2)))\n",
        "\n",
        "model.add(Flatten())\n",
        "model.add(Dense(256, activation='relu'))\n",
        "model.add(Dropout(0.5))\n",
        "\n",
        "model.add(Dense(256, activation='relu'))\n",
        "model.add(Dropout(0.5))\n",
        "\n",
        "model.add(Dense(1, activation=\"sigmoid\"))\n",
        "    \n",
        "model.compile(loss='binary_crossentropy',\n",
        "            optimizer=RMSprop(lr=0.0001),\n",
        "            metrics=['accuracy'])"
      ],
      "execution_count": 0,
      "outputs": []
    },
    {
      "cell_type": "code",
      "metadata": {
        "colab_type": "code",
        "outputId": "33c3fc3f-78d3-4743-9d9d-34b858ff9dff",
        "id": "zSQhkxJ87mCx",
        "colab": {
          "base_uri": "https://localhost:8080/",
          "height": 756
        }
      },
      "source": [
        "model.summary()"
      ],
      "execution_count": 31,
      "outputs": [
        {
          "output_type": "stream",
          "text": [
            "Model: \"sequential\"\n",
            "_________________________________________________________________\n",
            "Layer (type)                 Output Shape              Param #   \n",
            "=================================================================\n",
            "conv2d (Conv2D)              (None, 200, 200, 32)      896       \n",
            "_________________________________________________________________\n",
            "conv2d_1 (Conv2D)            (None, 67, 67, 32)        9248      \n",
            "_________________________________________________________________\n",
            "max_pooling2d (MaxPooling2D) (None, 33, 33, 32)        0         \n",
            "_________________________________________________________________\n",
            "conv2d_2 (Conv2D)            (None, 33, 33, 64)        18496     \n",
            "_________________________________________________________________\n",
            "conv2d_3 (Conv2D)            (None, 33, 33, 64)        36928     \n",
            "_________________________________________________________________\n",
            "max_pooling2d_1 (MaxPooling2 (None, 16, 16, 64)        0         \n",
            "_________________________________________________________________\n",
            "conv2d_4 (Conv2D)            (None, 16, 16, 128)       73856     \n",
            "_________________________________________________________________\n",
            "conv2d_5 (Conv2D)            (None, 6, 6, 128)         147584    \n",
            "_________________________________________________________________\n",
            "max_pooling2d_2 (MaxPooling2 (None, 3, 3, 128)         0         \n",
            "_________________________________________________________________\n",
            "conv2d_6 (Conv2D)            (None, 3, 3, 256)         295168    \n",
            "_________________________________________________________________\n",
            "conv2d_7 (Conv2D)            (None, 3, 3, 256)         590080    \n",
            "_________________________________________________________________\n",
            "max_pooling2d_3 (MaxPooling2 (None, 1, 1, 256)         0         \n",
            "_________________________________________________________________\n",
            "flatten (Flatten)            (None, 256)               0         \n",
            "_________________________________________________________________\n",
            "dense (Dense)                (None, 256)               65792     \n",
            "_________________________________________________________________\n",
            "dropout (Dropout)            (None, 256)               0         \n",
            "_________________________________________________________________\n",
            "dense_1 (Dense)              (None, 256)               65792     \n",
            "_________________________________________________________________\n",
            "dropout_1 (Dropout)          (None, 256)               0         \n",
            "_________________________________________________________________\n",
            "dense_2 (Dense)              (None, 1)                 257       \n",
            "=================================================================\n",
            "Total params: 1,304,097\n",
            "Trainable params: 1,304,097\n",
            "Non-trainable params: 0\n",
            "_________________________________________________________________\n"
          ],
          "name": "stdout"
        }
      ]
    },
    {
      "cell_type": "code",
      "metadata": {
        "id": "M7zQt43L7nCy",
        "colab_type": "code",
        "colab": {
          "base_uri": "https://localhost:8080/",
          "height": 34
        },
        "outputId": "d172bc55-363d-4127-ff00-3dee663d01e0"
      },
      "source": [
        "import tensorflow as tf\n",
        "\n",
        "tf.test.is_gpu_available(cuda_only=True)"
      ],
      "execution_count": 32,
      "outputs": [
        {
          "output_type": "execute_result",
          "data": {
            "text/plain": [
              "True"
            ]
          },
          "metadata": {
            "tags": []
          },
          "execution_count": 32
        }
      ]
    },
    {
      "cell_type": "code",
      "metadata": {
        "id": "Hq2KSwYk71w5",
        "colab_type": "code",
        "colab": {
          "base_uri": "https://localhost:8080/",
          "height": 34
        },
        "outputId": "c42f91de-6777-4a29-ea35-5bde4e5d813c"
      },
      "source": [
        "tf.__version__"
      ],
      "execution_count": 33,
      "outputs": [
        {
          "output_type": "execute_result",
          "data": {
            "text/plain": [
              "'2.2.0-rc1'"
            ]
          },
          "metadata": {
            "tags": []
          },
          "execution_count": 33
        }
      ]
    },
    {
      "cell_type": "code",
      "metadata": {
        "id": "hdXjS4lG8OMB",
        "colab_type": "code",
        "colab": {
          "base_uri": "https://localhost:8080/",
          "height": 1000
        },
        "outputId": "b558c717-4c91-41f4-e1dc-e6c39bce2f70"
      },
      "source": [
        "batch_size = 30\n",
        "epochs = 50\n",
        "import os\n",
        "# Train the model with the new callback\n",
        "history = model.fit(train_it, steps_per_epoch=len(train_it),\n",
        "\t\tvalidation_data=validate_it, validation_steps=len(validate_it), epochs=50, verbose=1)"
      ],
      "execution_count": 34,
      "outputs": [
        {
          "output_type": "stream",
          "text": [
            "Epoch 1/50\n",
            "313/313 [==============================] - 211s 673ms/step - loss: 0.6889 - accuracy: 0.5323 - val_loss: 0.7150 - val_accuracy: 0.5240\n",
            "Epoch 2/50\n",
            "313/313 [==============================] - 210s 670ms/step - loss: 0.6585 - accuracy: 0.6102 - val_loss: 0.6395 - val_accuracy: 0.6246\n",
            "Epoch 3/50\n",
            "313/313 [==============================] - 209s 668ms/step - loss: 0.6333 - accuracy: 0.6432 - val_loss: 0.6556 - val_accuracy: 0.6030\n",
            "Epoch 4/50\n",
            "313/313 [==============================] - 209s 667ms/step - loss: 0.6030 - accuracy: 0.6743 - val_loss: 0.5555 - val_accuracy: 0.7126\n",
            "Epoch 5/50\n",
            "313/313 [==============================] - 209s 667ms/step - loss: 0.5828 - accuracy: 0.6952 - val_loss: 0.5954 - val_accuracy: 0.6628\n",
            "Epoch 6/50\n",
            "313/313 [==============================] - 208s 666ms/step - loss: 0.5674 - accuracy: 0.7038 - val_loss: 0.5219 - val_accuracy: 0.7528\n",
            "Epoch 7/50\n",
            "313/313 [==============================] - 208s 666ms/step - loss: 0.5494 - accuracy: 0.7198 - val_loss: 0.4984 - val_accuracy: 0.7540\n",
            "Epoch 8/50\n",
            "313/313 [==============================] - 208s 666ms/step - loss: 0.5335 - accuracy: 0.7350 - val_loss: 0.4934 - val_accuracy: 0.7530\n",
            "Epoch 9/50\n",
            "313/313 [==============================] - 209s 668ms/step - loss: 0.5240 - accuracy: 0.7384 - val_loss: 0.5079 - val_accuracy: 0.7442\n",
            "Epoch 10/50\n",
            "313/313 [==============================] - 209s 668ms/step - loss: 0.5072 - accuracy: 0.7505 - val_loss: 0.4564 - val_accuracy: 0.7784\n",
            "Epoch 11/50\n",
            "313/313 [==============================] - 209s 668ms/step - loss: 0.4991 - accuracy: 0.7541 - val_loss: 0.5879 - val_accuracy: 0.7104\n",
            "Epoch 12/50\n",
            "313/313 [==============================] - 209s 667ms/step - loss: 0.4876 - accuracy: 0.7660 - val_loss: 0.4329 - val_accuracy: 0.7936\n",
            "Epoch 13/50\n",
            "313/313 [==============================] - 209s 668ms/step - loss: 0.4818 - accuracy: 0.7704 - val_loss: 0.4777 - val_accuracy: 0.7610\n",
            "Epoch 14/50\n",
            "313/313 [==============================] - 209s 668ms/step - loss: 0.4682 - accuracy: 0.7755 - val_loss: 0.4011 - val_accuracy: 0.8198\n",
            "Epoch 15/50\n",
            "313/313 [==============================] - 208s 664ms/step - loss: 0.4644 - accuracy: 0.7778 - val_loss: 0.4190 - val_accuracy: 0.8022\n",
            "Epoch 16/50\n",
            "313/313 [==============================] - 208s 663ms/step - loss: 0.4519 - accuracy: 0.7912 - val_loss: 0.3960 - val_accuracy: 0.8188\n",
            "Epoch 17/50\n",
            "313/313 [==============================] - 207s 662ms/step - loss: 0.4419 - accuracy: 0.7937 - val_loss: 0.3885 - val_accuracy: 0.8192\n",
            "Epoch 18/50\n",
            "313/313 [==============================] - 206s 659ms/step - loss: 0.4373 - accuracy: 0.7944 - val_loss: 0.3852 - val_accuracy: 0.8214\n",
            "Epoch 19/50\n",
            "313/313 [==============================] - 207s 662ms/step - loss: 0.4231 - accuracy: 0.8050 - val_loss: 0.4005 - val_accuracy: 0.8132\n",
            "Epoch 20/50\n",
            "313/313 [==============================] - 206s 657ms/step - loss: 0.4119 - accuracy: 0.8111 - val_loss: 0.3528 - val_accuracy: 0.8384\n",
            "Epoch 21/50\n",
            "313/313 [==============================] - 206s 658ms/step - loss: 0.4047 - accuracy: 0.8110 - val_loss: 0.3535 - val_accuracy: 0.8448\n",
            "Epoch 22/50\n",
            "313/313 [==============================] - 210s 671ms/step - loss: 0.3958 - accuracy: 0.8199 - val_loss: 0.3371 - val_accuracy: 0.8456\n",
            "Epoch 23/50\n",
            "313/313 [==============================] - 208s 666ms/step - loss: 0.3912 - accuracy: 0.8224 - val_loss: 0.3395 - val_accuracy: 0.8446\n",
            "Epoch 24/50\n",
            "313/313 [==============================] - 209s 668ms/step - loss: 0.3788 - accuracy: 0.8306 - val_loss: 0.3295 - val_accuracy: 0.8576\n",
            "Epoch 25/50\n",
            "313/313 [==============================] - 208s 664ms/step - loss: 0.3759 - accuracy: 0.8319 - val_loss: 0.3369 - val_accuracy: 0.8472\n",
            "Epoch 26/50\n",
            "313/313 [==============================] - 208s 664ms/step - loss: 0.3668 - accuracy: 0.8367 - val_loss: 0.5182 - val_accuracy: 0.7440\n",
            "Epoch 27/50\n",
            "313/313 [==============================] - 207s 662ms/step - loss: 0.3660 - accuracy: 0.8368 - val_loss: 0.3873 - val_accuracy: 0.8142\n",
            "Epoch 28/50\n",
            "313/313 [==============================] - 206s 657ms/step - loss: 0.3524 - accuracy: 0.8411 - val_loss: 0.3448 - val_accuracy: 0.8358\n",
            "Epoch 29/50\n",
            "313/313 [==============================] - 206s 657ms/step - loss: 0.3466 - accuracy: 0.8467 - val_loss: 0.2850 - val_accuracy: 0.8738\n",
            "Epoch 30/50\n",
            "313/313 [==============================] - 205s 656ms/step - loss: 0.3377 - accuracy: 0.8500 - val_loss: 0.2832 - val_accuracy: 0.8676\n",
            "Epoch 31/50\n",
            "313/313 [==============================] - 207s 662ms/step - loss: 0.3322 - accuracy: 0.8526 - val_loss: 0.3039 - val_accuracy: 0.8620\n",
            "Epoch 32/50\n",
            "313/313 [==============================] - 207s 663ms/step - loss: 0.3259 - accuracy: 0.8575 - val_loss: 0.3511 - val_accuracy: 0.8462\n",
            "Epoch 33/50\n",
            "313/313 [==============================] - 209s 667ms/step - loss: 0.3233 - accuracy: 0.8562 - val_loss: 0.2761 - val_accuracy: 0.8794\n",
            "Epoch 34/50\n",
            "313/313 [==============================] - 208s 665ms/step - loss: 0.3166 - accuracy: 0.8622 - val_loss: 0.2907 - val_accuracy: 0.8632\n",
            "Epoch 35/50\n",
            "313/313 [==============================] - 209s 669ms/step - loss: 0.3116 - accuracy: 0.8672 - val_loss: 0.2912 - val_accuracy: 0.8700\n",
            "Epoch 36/50\n",
            "313/313 [==============================] - 211s 674ms/step - loss: 0.3125 - accuracy: 0.8655 - val_loss: 0.3191 - val_accuracy: 0.8604\n",
            "Epoch 37/50\n",
            "313/313 [==============================] - 212s 676ms/step - loss: 0.3042 - accuracy: 0.8691 - val_loss: 0.2934 - val_accuracy: 0.8726\n",
            "Epoch 38/50\n",
            "313/313 [==============================] - 209s 668ms/step - loss: 0.2985 - accuracy: 0.8705 - val_loss: 0.2268 - val_accuracy: 0.9004\n",
            "Epoch 39/50\n",
            "313/313 [==============================] - 209s 666ms/step - loss: 0.2897 - accuracy: 0.8773 - val_loss: 0.2470 - val_accuracy: 0.8936\n",
            "Epoch 40/50\n",
            "313/313 [==============================] - 213s 679ms/step - loss: 0.2904 - accuracy: 0.8725 - val_loss: 0.2449 - val_accuracy: 0.8974\n",
            "Epoch 41/50\n",
            "313/313 [==============================] - 209s 667ms/step - loss: 0.2844 - accuracy: 0.8775 - val_loss: 0.2284 - val_accuracy: 0.9022\n",
            "Epoch 42/50\n",
            "313/313 [==============================] - 208s 666ms/step - loss: 0.2886 - accuracy: 0.8772 - val_loss: 0.2456 - val_accuracy: 0.9004\n",
            "Epoch 43/50\n",
            "313/313 [==============================] - 209s 668ms/step - loss: 0.2817 - accuracy: 0.8795 - val_loss: 0.2566 - val_accuracy: 0.8842\n",
            "Epoch 44/50\n",
            "313/313 [==============================] - 209s 667ms/step - loss: 0.2781 - accuracy: 0.8809 - val_loss: 0.2473 - val_accuracy: 0.8950\n",
            "Epoch 45/50\n",
            "313/313 [==============================] - 211s 673ms/step - loss: 0.2758 - accuracy: 0.8827 - val_loss: 0.2298 - val_accuracy: 0.8980\n",
            "Epoch 46/50\n",
            "313/313 [==============================] - 210s 671ms/step - loss: 0.2746 - accuracy: 0.8826 - val_loss: 0.2584 - val_accuracy: 0.8838\n",
            "Epoch 47/50\n",
            "313/313 [==============================] - 211s 674ms/step - loss: 0.2648 - accuracy: 0.8889 - val_loss: 0.2281 - val_accuracy: 0.9008\n",
            "Epoch 48/50\n",
            "313/313 [==============================] - 213s 680ms/step - loss: 0.2649 - accuracy: 0.8885 - val_loss: 0.2154 - val_accuracy: 0.9114\n",
            "Epoch 49/50\n",
            "313/313 [==============================] - 209s 667ms/step - loss: 0.2701 - accuracy: 0.8845 - val_loss: 0.2809 - val_accuracy: 0.8694\n",
            "Epoch 50/50\n",
            "313/313 [==============================] - 209s 667ms/step - loss: 0.2611 - accuracy: 0.8910 - val_loss: 0.2384 - val_accuracy: 0.8978\n"
          ],
          "name": "stdout"
        }
      ]
    },
    {
      "cell_type": "code",
      "metadata": {
        "id": "kQK9pY7T9MBF",
        "colab_type": "code",
        "colab": {
          "base_uri": "https://localhost:8080/",
          "height": 573
        },
        "outputId": "a1548fc3-799f-4b1d-db27-3d5246b6a3f2"
      },
      "source": [
        "import matplotlib.pyplot as plt\n",
        "# summarize history for accuracy\n",
        "plt.plot(history.history['accuracy'])\n",
        "plt.plot(history.history['val_accuracy'])\n",
        "plt.title('model accuracy')\n",
        "plt.ylabel('accuracy')\n",
        "plt.xlabel('epoch')\n",
        "plt.legend(['training', 'validation'], loc='upper left')\n",
        "plt.show()\n",
        "# summarize history for loss\n",
        "plt.plot(history.history['loss'])\n",
        "plt.plot(history.history['val_loss'])\n",
        "plt.title('model loss')\n",
        "plt.ylabel('loss')\n",
        "plt.xlabel('epoch')\n",
        "plt.legend(['training', 'validation'], loc='upper left')\n",
        "plt.show()"
      ],
      "execution_count": 37,
      "outputs": [
        {
          "output_type": "display_data",
          "data": {
            "image/png": "[encoded data removed]",
            "text/plain": [
              "<Figure size 432x288 with 1 Axes>"
            ]
          },
          "metadata": {
            "tags": []
          }
        },
        {
          "output_type": "display_data",
          "data": {
            "image/png": "[encoded data removed]",
            "text/plain": [
              "<Figure size 432x288 with 1 Axes>"
            ]
          },
          "metadata": {
            "tags": []
          }
        }
      ]
    },
    {
      "cell_type": "code",
      "metadata": {
        "colab_type": "code",
        "id": "60Nj5-IWR5X9",
        "colab": {}
      },
      "source": [
        "import matplotlib.pyplot as plt\n",
        "import matplotlib.image as mpimg\n",
        "\n",
        "test_data_dir  = \"/content/test_data\"\n",
        "probabilities = model.predict(test_it, 30)\n",
        "for index, probability in enumerate(probabilities):\n",
        "    image_path = test_data_dir + \"/\" +test_it.filenames[index]\n",
        "    img = mpimg.imread(image_path)\n",
        "    plt.imshow(img)\n",
        "    if probability > 0.5:\n",
        "        plt.title(\"%.2f\" % (probability[0]*100) + \"% dog\")\n",
        "    else:\n",
        "        plt.title(\"%.2f\" % ((1-probability[0])*100) + \"% cat\")\n",
        "    plt.show()"
      ],
      "execution_count": 0,
      "outputs": []
    },
    {
      "cell_type": "code",
      "metadata": {
        "colab_type": "code",
        "id": "b_ZFn2YUR46U",
        "colab": {}
      },
      "source": [
        ""
      ],
      "execution_count": 0,
      "outputs": []
    }
  ]
}